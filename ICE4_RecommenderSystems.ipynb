{
 "cells": [
  {
   "cell_type": "markdown",
   "metadata": {},
   "source": [
    "# Data Wrangling"
   ]
  },
  {
   "cell_type": "code",
   "execution_count": 12,
   "metadata": {},
   "outputs": [],
   "source": [
    "import pandas as pd\n",
    "import numpy as np\n",
    "import matplotlib.pyplot as plt\n",
    "import math\n",
    "from sklearn.metrics.pairwise import cosine_similarity"
   ]
  },
  {
   "cell_type": "code",
   "execution_count": 13,
   "metadata": {},
   "outputs": [],
   "source": [
    "interest = pd.read_csv('interest.csv')\n",
    "difficulty = pd.read_csv('difficulty.csv')"
   ]
  },
  {
   "cell_type": "code",
   "execution_count": 14,
   "metadata": {},
   "outputs": [
    {
     "name": "stdout",
     "output_type": "stream",
     "text": [
      "   id  prediction.interest  nlp.interest  sna.interest  neural.interest  \\\n",
      "0  s1                    5           5.0             4              5.0   \n",
      "1  s2                    5           5.0             5              5.0   \n",
      "2  s3                    5           5.0             5              5.0   \n",
      "3  s4                    4           5.0             5              5.0   \n",
      "4  s5                    4           4.0             4              5.0   \n",
      "\n",
      "   viz.interest  loop.interest  sql.interest  \n",
      "0             2            4.0           5.0  \n",
      "1             5            5.0           5.0  \n",
      "2             5            4.0           4.0  \n",
      "3             5            5.0           5.0  \n",
      "4             4            4.0           5.0  \n",
      "<class 'pandas.core.frame.DataFrame'>\n",
      "RangeIndex: 52 entries, 0 to 51\n",
      "Data columns (total 8 columns):\n",
      " #   Column               Non-Null Count  Dtype  \n",
      "---  ------               --------------  -----  \n",
      " 0   id                   52 non-null     object \n",
      " 1   prediction.interest  52 non-null     int64  \n",
      " 2   nlp.interest         51 non-null     float64\n",
      " 3   sna.interest         52 non-null     int64  \n",
      " 4   neural.interest      51 non-null     float64\n",
      " 5   viz.interest         52 non-null     int64  \n",
      " 6   loop.interest        51 non-null     float64\n",
      " 7   sql.interest         51 non-null     float64\n",
      "dtypes: float64(4), int64(3), object(1)\n",
      "memory usage: 3.4+ KB\n",
      "None\n",
      "       prediction.interest  nlp.interest  sna.interest  neural.interest  \\\n",
      "count            52.000000     51.000000     52.000000        51.000000   \n",
      "mean              4.326923      4.431373      4.134615         4.490196   \n",
      "std               1.042643      0.781150      1.048413         0.809260   \n",
      "min               1.000000      3.000000      1.000000         3.000000   \n",
      "25%               4.000000      4.000000      3.000000         4.000000   \n",
      "50%               5.000000      5.000000      4.500000         5.000000   \n",
      "75%               5.000000      5.000000      5.000000         5.000000   \n",
      "max               5.000000      5.000000      5.000000         5.000000   \n",
      "\n",
      "       viz.interest  loop.interest  sql.interest  \n",
      "count     52.000000      51.000000     51.000000  \n",
      "mean       4.596154       4.431373      4.431373  \n",
      "std        0.773574       0.781150      0.922061  \n",
      "min        2.000000       3.000000      2.000000  \n",
      "25%        4.750000       4.000000      4.000000  \n",
      "50%        5.000000       5.000000      5.000000  \n",
      "75%        5.000000       5.000000      5.000000  \n",
      "max        5.000000       5.000000      5.000000  \n",
      "(52,)\n"
     ]
    }
   ],
   "source": [
    "# Exploratory Analysis\n",
    "print(interest.head())\n",
    "print(interest.info())\n",
    "print(interest.describe())\n",
    "print(interest['id'].unique().shape)\n",
    "\n",
    "# 'nlp.interest' and 'neural.interest' each have one missing value\n",
    "# Confirmed that all values in 'id' are distinct"
   ]
  },
  {
   "cell_type": "code",
   "execution_count": 15,
   "metadata": {},
   "outputs": [
    {
     "name": "stdout",
     "output_type": "stream",
     "text": [
      "   id  prediction.difficulty  nlp.difficulty  sna.difficulty  \\\n",
      "0  s1                      4             5.0               3   \n",
      "1  s2                      5             5.0               5   \n",
      "2  s3                      3             3.0               3   \n",
      "3  s4                      3             4.0               4   \n",
      "4  s5                      4             4.0               4   \n",
      "\n",
      "   neural.difficulty  viz.difficulty  loop.difficulty  sql.difficulty  \n",
      "0                5.0             3.0              3.0             5.0  \n",
      "1                5.0             5.0              5.0             5.0  \n",
      "2                3.0             3.0              3.0             2.0  \n",
      "3                4.0             4.0              5.0             3.0  \n",
      "4                5.0             4.0              4.0             4.0  \n",
      "<class 'pandas.core.frame.DataFrame'>\n",
      "RangeIndex: 52 entries, 0 to 51\n",
      "Data columns (total 8 columns):\n",
      " #   Column                 Non-Null Count  Dtype  \n",
      "---  ------                 --------------  -----  \n",
      " 0   id                     52 non-null     object \n",
      " 1   prediction.difficulty  52 non-null     int64  \n",
      " 2   nlp.difficulty         50 non-null     float64\n",
      " 3   sna.difficulty         52 non-null     int64  \n",
      " 4   neural.difficulty      50 non-null     float64\n",
      " 5   viz.difficulty         50 non-null     float64\n",
      " 6   loop.difficulty        50 non-null     float64\n",
      " 7   sql.difficulty         49 non-null     float64\n",
      "dtypes: float64(5), int64(2), object(1)\n",
      "memory usage: 3.4+ KB\n",
      "None\n",
      "       prediction.difficulty  nlp.difficulty  sna.difficulty  \\\n",
      "count              52.000000        50.00000       52.000000   \n",
      "mean                3.807692         4.22000        3.769231   \n",
      "std                 0.864064         0.86402        0.899137   \n",
      "min                 2.000000         2.00000        2.000000   \n",
      "25%                 3.000000         4.00000        3.000000   \n",
      "50%                 4.000000         4.00000        4.000000   \n",
      "75%                 5.000000         5.00000        4.250000   \n",
      "max                 5.000000         5.00000        5.000000   \n",
      "\n",
      "       neural.difficulty  viz.difficulty  loop.difficulty  sql.difficulty  \n",
      "count          50.000000       50.000000        50.000000       49.000000  \n",
      "mean            4.400000        4.060000         4.080000        3.693878  \n",
      "std             0.782461        0.818411         0.829064        1.103103  \n",
      "min             2.000000        3.000000         3.000000        1.000000  \n",
      "25%             4.000000        3.000000         3.000000        3.000000  \n",
      "50%             5.000000        4.000000         4.000000        4.000000  \n",
      "75%             5.000000        5.000000         5.000000        5.000000  \n",
      "max             5.000000        5.000000         5.000000        5.000000  \n",
      "(52,)\n"
     ]
    }
   ],
   "source": [
    "# Exploratory Analysis\n",
    "print(difficulty.head())\n",
    "print(difficulty.info())\n",
    "print(difficulty.describe())\n",
    "print(difficulty['id'].unique().shape)\n",
    "\n",
    "# 'nlp.difficulty', 'neural.difficulty', 'vlz.difficulty', 'loop.difficulty', 'sql.difficulty', \n",
    "# each have 1-3 missing values\n",
    "# Confirmed that all 'id's are distinct"
   ]
  },
  {
   "cell_type": "code",
   "execution_count": 16,
   "metadata": {},
   "outputs": [
    {
     "name": "stdout",
     "output_type": "stream",
     "text": [
      "            difficulty  interest\n",
      "prediction    3.807692  4.326923\n",
      "nlp           4.220000  4.431373\n",
      "sna           3.769231  4.134615\n",
      "neural        4.400000  4.490196\n",
      "viz           4.060000  4.596154\n",
      "loop          4.080000  4.431373\n",
      "sql           3.693878  4.431373\n"
     ]
    }
   ],
   "source": [
    "# Create a dataset w/ the rows as the seven units ('prediction'-'sql') and interest and difficulty as the columns\n",
    "interest_means = interest.iloc[:, 1:].mean()\n",
    "difficulty_means = difficulty.iloc[:, 1:].mean()\n",
    "interest_means = interest_means.rename(lambda x: x.replace('.interest', ''))\n",
    "difficulty_means = difficulty_means.rename(lambda x: x.replace('.difficulty', ''))\n",
    "difficulty_interest = pd.concat([difficulty_means, interest_means], axis = 1)\n",
    "difficulty_interest = difficulty_interest.rename(columns = {0 : 'difficulty', 1 : 'interest'})\n",
    "print(difficulty_interest)"
   ]
  },
  {
   "cell_type": "markdown",
   "metadata": {},
   "source": [
    "# Create a Content-Based Recommender\n",
    "\n",
    "A content-based recommender suggests similar items based on other variables.  \n",
    "In this sense, it is very much similar to distance-bsed algorithms (e.g KNN)."
   ]
  },
  {
   "cell_type": "code",
   "execution_count": 18,
   "metadata": {},
   "outputs": [
    {
     "data": {
      "image/png": "[encoded data removed]",
      "text/plain": [
       "<Figure size 432x288 with 1 Axes>"
      ]
     },
     "metadata": {
      "needs_background": "light"
     },
     "output_type": "display_data"
    }
   ],
   "source": [
    "# Create a basic scatterplot\n",
    "plt.scatter(difficulty_interest.difficulty, \n",
    "            difficulty_interest.interest)\n",
    "plt.xlabel('difficulty')\n",
    "plt.ylabel('interest')\n",
    "plt.xlim(3.5, 4.7)\n",
    "plt.ylim(4.0, 4.7)\n",
    "for i, index in enumerate(difficulty_interest.index):\n",
    "    plt.text(difficulty_interest.difficulty[i] + 0.01, \n",
    "             difficulty_interest.interest[i] + 0.01,\n",
    "             index)"
   ]
  },
  {
   "cell_type": "code",
   "execution_count": 19,
   "metadata": {},
   "outputs": [
    {
     "data": {
      "text/html": [
       "<div>\n",
       "<style scoped>\n",
       "    .dataframe tbody tr th:only-of-type {\n",
       "        vertical-align: middle;\n",
       "    }\n",
       "\n",
       "    .dataframe tbody tr th {\n",
       "        vertical-align: top;\n",
       "    }\n",
       "\n",
       "    .dataframe thead th {\n",
       "        text-align: right;\n",
       "    }\n",
       "</style>\n",
       "<table border=\"1\" class=\"dataframe\">\n",
       "  <thead>\n",
       "    <tr style=\"text-align: right;\">\n",
       "      <th></th>\n",
       "      <th>difficulty</th>\n",
       "      <th>interest</th>\n",
       "      <th>distance</th>\n",
       "    </tr>\n",
       "  </thead>\n",
       "  <tbody>\n",
       "    <tr>\n",
       "      <th>prediction</th>\n",
       "      <td>3.807692</td>\n",
       "      <td>4.326923</td>\n",
       "      <td>0.000000</td>\n",
       "    </tr>\n",
       "    <tr>\n",
       "      <th>sql</th>\n",
       "      <td>3.693878</td>\n",
       "      <td>4.431373</td>\n",
       "      <td>0.154478</td>\n",
       "    </tr>\n",
       "    <tr>\n",
       "      <th>sna</th>\n",
       "      <td>3.769231</td>\n",
       "      <td>4.134615</td>\n",
       "      <td>0.196116</td>\n",
       "    </tr>\n",
       "    <tr>\n",
       "      <th>loop</th>\n",
       "      <td>4.080000</td>\n",
       "      <td>4.431373</td>\n",
       "      <td>0.291652</td>\n",
       "    </tr>\n",
       "    <tr>\n",
       "      <th>viz</th>\n",
       "      <td>4.060000</td>\n",
       "      <td>4.596154</td>\n",
       "      <td>0.368977</td>\n",
       "    </tr>\n",
       "    <tr>\n",
       "      <th>nlp</th>\n",
       "      <td>4.220000</td>\n",
       "      <td>4.431373</td>\n",
       "      <td>0.425332</td>\n",
       "    </tr>\n",
       "    <tr>\n",
       "      <th>neural</th>\n",
       "      <td>4.400000</td>\n",
       "      <td>4.490196</td>\n",
       "      <td>0.614399</td>\n",
       "    </tr>\n",
       "  </tbody>\n",
       "</table>\n",
       "</div>"
      ],
      "text/plain": [
       "            difficulty  interest  distance\n",
       "prediction    3.807692  4.326923  0.000000\n",
       "sql           3.693878  4.431373  0.154478\n",
       "sna           3.769231  4.134615  0.196116\n",
       "loop          4.080000  4.431373  0.291652\n",
       "viz           4.060000  4.596154  0.368977\n",
       "nlp           4.220000  4.431373  0.425332\n",
       "neural        4.400000  4.490196  0.614399"
      ]
     },
     "execution_count": 19,
     "metadata": {},
     "output_type": "execute_result"
    }
   ],
   "source": [
    "# Create a dataframe with a new column 'distance'.\n",
    "# Assign 0s to 'distance' temporarily\n",
    "difficulty_interest_distance = difficulty_interest.copy()\n",
    "difficulty_interest_distance['distance'] = 0\n",
    "\n",
    "# Select random row to start\n",
    "item = difficulty_interest_distance.loc['prediction', ]\n",
    "\n",
    "for i in difficulty_interest.index:\n",
    "    target = difficulty_interest_distance.loc[i, ]\n",
    "    d = math.dist(item, target)\n",
    "    difficulty_interest_distance.loc[i, 'distance'] = d\n",
    "    \n",
    "difficulty_interest_distance.sort_values('distance', ascending = True)"
   ]
  },
  {
   "cell_type": "markdown",
   "metadata": {},
   "source": [
    "We will now create a recommender system using the *cosine similarity* to measure the distance"
   ]
  },
  {
   "cell_type": "code",
   "execution_count": 20,
   "metadata": {},
   "outputs": [
    {
     "data": {
      "text/plain": [
       "array([[1.        , 0.99922723, 0.99984605, 0.99856397, 0.99999823,\n",
       "        0.99974724, 0.99964159],\n",
       "       [0.99922723, 1.        , 0.99976308, 0.99989801, 0.99929948,\n",
       "        0.99985835, 0.99781682],\n",
       "       [0.99984605, 0.99976308, 1.        , 0.99935025, 0.99987732,\n",
       "        0.99998782, 0.99901794],\n",
       "       [0.99856397, 0.99989801, 0.99935025, 1.        , 0.99866309,\n",
       "        0.999516  , 0.99677186],\n",
       "       [0.99999823, 0.99929948, 0.99987732, 0.99866309, 1.        ,\n",
       "        0.99978781, 0.99958939],\n",
       "       [0.99974724, 0.99985835, 0.99998782, 0.999516  , 0.99978781,\n",
       "        1.        , 0.99878705],\n",
       "       [0.99964159, 0.99781682, 0.99901794, 0.99677186, 0.99958939,\n",
       "        0.99878705, 1.        ]])"
      ]
     },
     "execution_count": 20,
     "metadata": {},
     "output_type": "execute_result"
    }
   ],
   "source": [
    "cosine_sim = cosine_similarity(difficulty_interest)\n",
    "cosine_sim\n",
    "\n",
    "# Note: We have created a 7*7 array, representing the cosine similarity \n",
    "# between the seven units.\n",
    "# The maximum value is 1 (representing complete similarity)"
   ]
  },
  {
   "cell_type": "code",
   "execution_count": 21,
   "metadata": {},
   "outputs": [
    {
     "data": {
      "text/plain": [
       "prediction    0\n",
       "nlp           1\n",
       "sna           2\n",
       "neural        3\n",
       "viz           4\n",
       "loop          5\n",
       "sql           6\n",
       "dtype: int64"
      ]
     },
     "execution_count": 21,
     "metadata": {},
     "output_type": "execute_result"
    }
   ],
   "source": [
    "module_indices = pd.Series(range(len(difficulty_interest.index)), \n",
    "                           index = difficulty_interest.index)\n",
    "module_indices"
   ]
  },
  {
   "cell_type": "code",
   "execution_count": 22,
   "metadata": {},
   "outputs": [
    {
     "data": {
      "text/plain": [
       "viz       4\n",
       "sna       2\n",
       "loop      5\n",
       "sql       6\n",
       "nlp       1\n",
       "neural    3\n",
       "dtype: int64"
      ]
     },
     "execution_count": 22,
     "metadata": {},
     "output_type": "execute_result"
    }
   ],
   "source": [
    "def get_recommendations (name, cosine_sim, matrix_indices):\n",
    "    idx = matrix_indices[name]\n",
    "    sim_scores = list(enumerate(cosine_sim[idx]))\n",
    "    sim_scores = sorted(sim_scores, key = lambda x: x[1], reverse = True)\n",
    "    sim_scores = sim_scores[1:15]\n",
    "    rank_indices = [i[0] for i in sim_scores]\n",
    "    return matrix_indices.iloc[rank_indices]\n",
    "    \n",
    "get_recommendations('prediction', cosine_sim, module_indices)"
   ]
  },
  {
   "cell_type": "markdown",
   "metadata": {},
   "source": [
    "# Collaborative Filter\n",
    "\n",
    "Collaborative filter relies on the dynamic input of the user data to make recommendations.  \n",
    "There are two types of collaborative filters:  \n",
    "1. *Item-based filtering*: Similar to the previous content recommendation engine. The list is constantly updated based on user input.  \n",
    "2. *User-based filtering*: CT recommends items based on similar users. In other words, the filter initially connects users based on their input, and assumes similar people will continue to have similar preferences.  \n",
    "\n",
    "\n",
    "We will now create a user-bsaed filter."
   ]
  },
  {
   "cell_type": "code",
   "execution_count": 23,
   "metadata": {},
   "outputs": [],
   "source": [
    "# Clean dataset\n",
    "interest_na = interest.dropna()\n",
    "interest_na.index = interest_na.id\n",
    "interest_clean = interest_na.drop('id', axis = 1)"
   ]
  },
  {
   "cell_type": "code",
   "execution_count": 24,
   "metadata": {},
   "outputs": [
    {
     "data": {
      "text/plain": [
       "id\n",
       "s1      0\n",
       "s2      1\n",
       "s3      2\n",
       "s4      3\n",
       "s5      4\n",
       "s6      5\n",
       "s7      6\n",
       "s8      7\n",
       "s9      8\n",
       "s10     9\n",
       "s11    10\n",
       "s12    11\n",
       "s13    12\n",
       "s14    13\n",
       "s15    14\n",
       "s16    15\n",
       "s17    16\n",
       "s18    17\n",
       "s19    18\n",
       "s20    19\n",
       "s21    20\n",
       "s22    21\n",
       "s23    22\n",
       "s24    23\n",
       "s25    24\n",
       "s26    25\n",
       "s27    26\n",
       "s28    27\n",
       "s29    28\n",
       "s30    29\n",
       "s31    30\n",
       "s32    31\n",
       "s33    32\n",
       "s34    33\n",
       "s35    34\n",
       "s36    35\n",
       "s37    36\n",
       "s38    37\n",
       "s39    38\n",
       "s40    39\n",
       "s41    40\n",
       "s42    41\n",
       "s43    42\n",
       "s44    43\n",
       "s45    44\n",
       "s46    45\n",
       "s47    46\n",
       "s48    47\n",
       "s51    48\n",
       "s52    49\n",
       "dtype: int64"
      ]
     },
     "execution_count": 24,
     "metadata": {},
     "output_type": "execute_result"
    }
   ],
   "source": [
    "# Obtain the cosine similarity matrix\n",
    "cosine_sim_interest = cosine_similarity(interest_clean, interest_clean)\n",
    "# Create an index for the student list\n",
    "id_indices = pd.Series(range(len(interest_clean.index)), \n",
    "                       index = interest_clean.index)\n",
    "\n",
    "get_recommendations('s7', cosine_sim_interest, id_indices)\n",
    "\n",
    "id_indices"
   ]
  },
  {
   "cell_type": "code",
   "execution_count": null,
   "metadata": {},
   "outputs": [],
   "source": []
  }
 ],
 "metadata": {
  "kernelspec": {
   "display_name": "Python 3",
   "language": "python",
   "name": "python3"
  },
  "language_info": {
   "codemirror_mode": {
    "name": "ipython",
    "version": 3
   },
   "file_extension": ".py",
   "mimetype": "text/x-python",
   "name": "python",
   "nbconvert_exporter": "python",
   "pygments_lexer": "ipython3",
   "version": "3.8.5"
  }
 },
 "nbformat": 4,
 "nbformat_minor": 4
}
